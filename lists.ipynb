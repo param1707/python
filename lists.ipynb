{
  "nbformat": 4,
  "nbformat_minor": 0,
  "metadata": {
    "colab": {
      "name": "lists.ipynb",
      "provenance": [],
      "authorship_tag": "ABX9TyMU79tRhVgNgIVcDU752Vuw",
      "include_colab_link": true
    },
    "kernelspec": {
      "name": "python3",
      "display_name": "Python 3"
    },
    "language_info": {
      "name": "python"
    }
  },
  "cells": [
    {
      "cell_type": "markdown",
      "metadata": {
        "id": "view-in-github",
        "colab_type": "text"
      },
      "source": [
        "<a href=\"https://colab.research.google.com/github/param1707/python/blob/main/lists.ipynb\" target=\"_parent\"><img src=\"https://colab.research.google.com/assets/colab-badge.svg\" alt=\"Open In Colab\"/></a>"
      ]
    },
    {
      "cell_type": "markdown",
      "source": [
        "# **lists in python**"
      ],
      "metadata": {
        "id": "QBjX8C1xYGF2"
      }
    },
    {
      "cell_type": "code",
      "source": [
        "item1 = \"bread\"\n",
        "item2 = \"butter\"\n",
        "item3 = \"pasta\""
      ],
      "metadata": {
        "id": "IxEQFEFiYLx4"
      },
      "execution_count": 1,
      "outputs": []
    },
    {
      "cell_type": "code",
      "source": [
        "items = [\"bread\",\"butter\",\"pasta\"]"
      ],
      "metadata": {
        "id": "cZ3J1_Q_Ycml"
      },
      "execution_count": 2,
      "outputs": []
    },
    {
      "cell_type": "code",
      "source": [
        "items[0]"
      ],
      "metadata": {
        "colab": {
          "base_uri": "https://localhost:8080/",
          "height": 36
        },
        "id": "D1EixzRNYnK1",
        "outputId": "3d9a44be-2081-498f-d6f1-7258fc1db002"
      },
      "execution_count": 3,
      "outputs": [
        {
          "output_type": "execute_result",
          "data": {
            "application/vnd.google.colaboratory.intrinsic+json": {
              "type": "string"
            },
            "text/plain": [
              "'bread'"
            ]
          },
          "metadata": {},
          "execution_count": 3
        }
      ]
    },
    {
      "cell_type": "code",
      "source": [
        "items[1]"
      ],
      "metadata": {
        "colab": {
          "base_uri": "https://localhost:8080/",
          "height": 36
        },
        "id": "Z59kskQ9Ypt_",
        "outputId": "82ab586a-fcaf-4bb3-9109-ad5a67050fc3"
      },
      "execution_count": 5,
      "outputs": [
        {
          "output_type": "execute_result",
          "data": {
            "application/vnd.google.colaboratory.intrinsic+json": {
              "type": "string"
            },
            "text/plain": [
              "'butter'"
            ]
          },
          "metadata": {},
          "execution_count": 5
        }
      ]
    },
    {
      "cell_type": "code",
      "source": [
        "items[2]"
      ],
      "metadata": {
        "colab": {
          "base_uri": "https://localhost:8080/",
          "height": 36
        },
        "id": "FNxHDCTJYpyS",
        "outputId": "7708bc87-fa7f-4aca-b5d2-a0efe4382ed0"
      },
      "execution_count": 4,
      "outputs": [
        {
          "output_type": "execute_result",
          "data": {
            "application/vnd.google.colaboratory.intrinsic+json": {
              "type": "string"
            },
            "text/plain": [
              "'pasta'"
            ]
          },
          "metadata": {},
          "execution_count": 4
        }
      ]
    },
    {
      "cell_type": "code",
      "source": [
        "items.append(\"veggies\")"
      ],
      "metadata": {
        "id": "xJIpfe1WYuFL"
      },
      "execution_count": 6,
      "outputs": []
    },
    {
      "cell_type": "code",
      "source": [
        "items"
      ],
      "metadata": {
        "colab": {
          "base_uri": "https://localhost:8080/"
        },
        "id": "wPJrmCRsY0CI",
        "outputId": "caf7fe48-bae5-4502-81f3-8df77801f06a"
      },
      "execution_count": 7,
      "outputs": [
        {
          "output_type": "execute_result",
          "data": {
            "text/plain": [
              "['bread', 'butter', 'pasta', 'veggies']"
            ]
          },
          "metadata": {},
          "execution_count": 7
        }
      ]
    },
    {
      "cell_type": "code",
      "source": [
        "items[-1]"
      ],
      "metadata": {
        "colab": {
          "base_uri": "https://localhost:8080/",
          "height": 36
        },
        "id": "e9-CYIlwY4nK",
        "outputId": "5ab0b282-5f7b-49a5-9c77-0adcc3bdce33"
      },
      "execution_count": 8,
      "outputs": [
        {
          "output_type": "execute_result",
          "data": {
            "application/vnd.google.colaboratory.intrinsic+json": {
              "type": "string"
            },
            "text/plain": [
              "'veggies'"
            ]
          },
          "metadata": {},
          "execution_count": 8
        }
      ]
    },
    {
      "cell_type": "code",
      "source": [
        "items[0:]"
      ],
      "metadata": {
        "colab": {
          "base_uri": "https://localhost:8080/"
        },
        "id": "AxAhewlZY8PV",
        "outputId": "28a6b9bc-b979-45f3-b6e4-1c05a43d7e9d"
      },
      "execution_count": 11,
      "outputs": [
        {
          "output_type": "execute_result",
          "data": {
            "text/plain": [
              "['bread', 'butter', 'pasta', 'veggies']"
            ]
          },
          "metadata": {},
          "execution_count": 11
        }
      ]
    },
    {
      "cell_type": "markdown",
      "source": [
        "insert an element in list at particular index"
      ],
      "metadata": {
        "id": "aUWGmxZoZGwQ"
      }
    },
    {
      "cell_type": "code",
      "source": [
        "items.insert(1,\"drinks\")"
      ],
      "metadata": {
        "id": "Z1vZI_VoZFHe"
      },
      "execution_count": 13,
      "outputs": []
    },
    {
      "cell_type": "code",
      "source": [
        "items"
      ],
      "metadata": {
        "colab": {
          "base_uri": "https://localhost:8080/"
        },
        "id": "bCzBdEFFZTrY",
        "outputId": "91ccac98-2d34-4f37-e53c-a7b25faf4c13"
      },
      "execution_count": 14,
      "outputs": [
        {
          "output_type": "execute_result",
          "data": {
            "text/plain": [
              "['bread', 'drinks', 'butter', 'pasta', 'veggies']"
            ]
          },
          "metadata": {},
          "execution_count": 14
        }
      ]
    },
    {
      "cell_type": "markdown",
      "source": [
        "# **Add two lists**"
      ],
      "metadata": {
        "id": "ej9pfYnEZZmI"
      }
    },
    {
      "cell_type": "code",
      "source": [
        "list1 =[\"pen\",\"paper\",\"pencil\"]\n",
        "list2 =[\"apple\",\"orange\",\"banana\"]"
      ],
      "metadata": {
        "id": "rBk7gkcbZsf6"
      },
      "execution_count": 15,
      "outputs": []
    },
    {
      "cell_type": "code",
      "source": [
        "final_list = list1 +list2\n",
        "print(final_list)"
      ],
      "metadata": {
        "colab": {
          "base_uri": "https://localhost:8080/"
        },
        "id": "--XD6c1XZ9bG",
        "outputId": "ced33fbc-1f12-4241-810c-766a9c9c9d4d"
      },
      "execution_count": 17,
      "outputs": [
        {
          "output_type": "stream",
          "name": "stdout",
          "text": [
            "['pen', 'paper', 'pencil', 'apple', 'orange', 'banana']\n"
          ]
        }
      ]
    },
    {
      "cell_type": "markdown",
      "source": [
        "# **Find the length of the list or the number of elements**"
      ],
      "metadata": {
        "id": "9papGd5jaV7C"
      }
    },
    {
      "cell_type": "code",
      "source": [
        "len(final_list)"
      ],
      "metadata": {
        "colab": {
          "base_uri": "https://localhost:8080/"
        },
        "id": "wDjkEF52aF-s",
        "outputId": "f75c183e-fa26-4234-cf8e-5a7472211aa1"
      },
      "execution_count": 18,
      "outputs": [
        {
          "output_type": "execute_result",
          "data": {
            "text/plain": [
              "6"
            ]
          },
          "metadata": {},
          "execution_count": 18
        }
      ]
    },
    {
      "cell_type": "markdown",
      "source": [
        "# **Look up the elements in a list**"
      ],
      "metadata": {
        "id": "j4KB4dH8adcv"
      }
    },
    {
      "cell_type": "code",
      "source": [
        "\"rubber\" in final_list"
      ],
      "metadata": {
        "colab": {
          "base_uri": "https://localhost:8080/"
        },
        "id": "nnt42NJeaJfT",
        "outputId": "bef4b800-7c09-46d4-ac9e-a33c56865582"
      },
      "execution_count": 19,
      "outputs": [
        {
          "output_type": "execute_result",
          "data": {
            "text/plain": [
              "False"
            ]
          },
          "metadata": {},
          "execution_count": 19
        }
      ]
    },
    {
      "cell_type": "code",
      "source": [
        "\"paper\" in final_list"
      ],
      "metadata": {
        "colab": {
          "base_uri": "https://localhost:8080/"
        },
        "id": "c6Z4NSjzaSRS",
        "outputId": "51ffb52a-f4e2-4c33-9172-decfc36b3de6"
      },
      "execution_count": 20,
      "outputs": [
        {
          "output_type": "execute_result",
          "data": {
            "text/plain": [
              "True"
            ]
          },
          "metadata": {},
          "execution_count": 20
        }
      ]
    }
  ]
}