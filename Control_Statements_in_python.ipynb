{
  "nbformat": 4,
  "nbformat_minor": 0,
  "metadata": {
    "colab": {
      "name": "Control Statements in python.ipynb",
      "provenance": [],
      "authorship_tag": "ABX9TyN3C7MLeunlOE1d7ETvt3tl",
      "include_colab_link": true
    },
    "kernelspec": {
      "name": "python3",
      "display_name": "Python 3"
    },
    "language_info": {
      "name": "python"
    }
  },
  "cells": [
    {
      "cell_type": "markdown",
      "metadata": {
        "id": "view-in-github",
        "colab_type": "text"
      },
      "source": [
        "<a href=\"https://colab.research.google.com/github/param1707/python/blob/main/Control_Statements_in_python.ipynb\" target=\"_parent\"><img src=\"https://colab.research.google.com/assets/colab-badge.svg\" alt=\"Open In Colab\"/></a>"
      ]
    },
    {
      "cell_type": "markdown",
      "source": [
        "# **IF statements in python**"
      ],
      "metadata": {
        "id": "zqQIWTSGbdaT"
      }
    },
    {
      "cell_type": "markdown",
      "source": [
        "# program to take number and tell whether its even or odd"
      ],
      "metadata": {
        "id": "bq9bU4i2brqY"
      }
    },
    {
      "cell_type": "code",
      "source": [
        "num = input(\"enter a number:\")"
      ],
      "metadata": {
        "colab": {
          "base_uri": "https://localhost:8080/"
        },
        "id": "SKXyr3_AbkBR",
        "outputId": "2e33177a-184b-4c83-cd59-a034798b160d"
      },
      "execution_count": 2,
      "outputs": [
        {
          "name": "stdout",
          "output_type": "stream",
          "text": [
            "enter a number:15\n"
          ]
        }
      ]
    },
    {
      "cell_type": "code",
      "source": [
        "num = int(num)"
      ],
      "metadata": {
        "id": "xUmRhdxqb9j3"
      },
      "execution_count": 6,
      "outputs": []
    },
    {
      "cell_type": "code",
      "source": [
        "if num%2==0 :\n",
        "  print(str(num) +' '+ \"is even mumber\")\n",
        "else :\n",
        "  print(str(num) + ' '+ \"is odd mumber\")\n"
      ],
      "metadata": {
        "colab": {
          "base_uri": "https://localhost:8080/"
        },
        "id": "pYVrk1akcBlD",
        "outputId": "7686b4d7-8d94-4009-873a-fce5fd0f28b1"
      },
      "execution_count": 9,
      "outputs": [
        {
          "output_type": "stream",
          "name": "stdout",
          "text": [
            "15 is odd mumber\n"
          ]
        }
      ]
    },
    {
      "cell_type": "markdown",
      "source": [
        "# **Take a number and checkout whether it is present in any of the list**"
      ],
      "metadata": {
        "id": "tJBjixlcdLv9"
      }
    },
    {
      "cell_type": "code",
      "source": [
        "first_10 = [1,2,3,4,5,6,7,8,9,10]"
      ],
      "metadata": {
        "id": "C-Xj4PnNcBoP"
      },
      "execution_count": 10,
      "outputs": []
    },
    {
      "cell_type": "code",
      "source": [
        "next_10_to_20 = [11,12,13,14,15,16,17,18,19,20]"
      ],
      "metadata": {
        "id": "FwNOuR-ZcBrU"
      },
      "execution_count": 11,
      "outputs": []
    },
    {
      "cell_type": "code",
      "source": [
        "number = input(\"enter a  number:\")"
      ],
      "metadata": {
        "colab": {
          "base_uri": "https://localhost:8080/"
        },
        "id": "KzW9_j35drDh",
        "outputId": "df0d5fca-f4f8-41b7-8b14-5e4b17619563"
      },
      "execution_count": 19,
      "outputs": [
        {
          "name": "stdout",
          "output_type": "stream",
          "text": [
            "enter a  number:21\n"
          ]
        }
      ]
    },
    {
      "cell_type": "code",
      "source": [
        "number = int(number)"
      ],
      "metadata": {
        "id": "xQxIpasQerSl"
      },
      "execution_count": 20,
      "outputs": []
    },
    {
      "cell_type": "code",
      "source": [
        "if number in first_10 :\n",
        "  print(str(number)+' '+\"is present in fist_10 list\")\n",
        "elif number in next_10_to_20:\n",
        "  print(str(number)+' '+\"is present in next_10_to_20 list\")\n",
        "else:\n",
        "  print(\"Sorry\"+' '+str(number)+' '+ \"is not present in any of the list mentioned above\")"
      ],
      "metadata": {
        "colab": {
          "base_uri": "https://localhost:8080/"
        },
        "id": "Evrj57S0dz8_",
        "outputId": "99fcd887-48e8-4f86-9bba-ddac8dccffda"
      },
      "execution_count": 21,
      "outputs": [
        {
          "output_type": "stream",
          "name": "stdout",
          "text": [
            "Sorry 21 is not present in any of the list mentioned above\n"
          ]
        }
      ]
    }
  ]
}