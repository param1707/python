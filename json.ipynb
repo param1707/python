{
  "nbformat": 4,
  "nbformat_minor": 0,
  "metadata": {
    "colab": {
      "name": "json.ipynb",
      "provenance": [],
      "authorship_tag": "ABX9TyM3j9Ki/uKyuO2aliVjkPZy",
      "include_colab_link": true
    },
    "kernelspec": {
      "name": "python3",
      "display_name": "Python 3"
    },
    "language_info": {
      "name": "python"
    }
  },
  "cells": [
    {
      "cell_type": "markdown",
      "metadata": {
        "id": "view-in-github",
        "colab_type": "text"
      },
      "source": [
        "<a href=\"https://colab.research.google.com/github/param1707/python/blob/main/json.ipynb\" target=\"_parent\"><img src=\"https://colab.research.google.com/assets/colab-badge.svg\" alt=\"Open In Colab\"/></a>"
      ]
    },
    {
      "cell_type": "markdown",
      "source": [
        "# **JSON - JavaScript Object Notation similar to Xml used for data exchanges**"
      ],
      "metadata": {
        "id": "5HGUhH2-2qZI"
      }
    },
    {
      "cell_type": "code",
      "source": [
        "import json"
      ],
      "metadata": {
        "id": "h6xjMjX437a5"
      },
      "execution_count": 5,
      "outputs": []
    },
    {
      "cell_type": "code",
      "source": [
        "book = {}"
      ],
      "metadata": {
        "id": "QlgRQgbD23QV"
      },
      "execution_count": 6,
      "outputs": []
    },
    {
      "cell_type": "code",
      "source": [
        "book[\"param\"] = {\n",
        "    \"name\": \"param\",\n",
        "    \"mat-Nr\": 62345,\n",
        "    \"address\":\"MAx-planck-ring18\",\n",
        "    \"pin code\": 98693\n",
        "}\n",
        "\n",
        "book[\"shamith\"] = {\n",
        "    \"name\": \"shamith\",\n",
        "    \"mat-Nr\": 62346,\n",
        "    \"address\":\"MAx-planck-ring19\",\n",
        "    \"pin code\": 98693\n",
        "}\n",
        "\n",
        "book[\"aditya\"] = {\n",
        "    \"name\": \"aditya\",\n",
        "    \"mat-Nr\": 62347,\n",
        "    \"address\":\"MAx-planck-ring20\",\n",
        "    \"pin code\": 98693\n",
        "}"
      ],
      "metadata": {
        "id": "9j_h1s4X2_oG"
      },
      "execution_count": 7,
      "outputs": []
    },
    {
      "cell_type": "code",
      "source": [
        "object_book = json.dumps(book)"
      ],
      "metadata": {
        "id": "uMDcn7fI3shJ"
      },
      "execution_count": 8,
      "outputs": []
    },
    {
      "cell_type": "code",
      "source": [
        "type(book)"
      ],
      "metadata": {
        "colab": {
          "base_uri": "https://localhost:8080/"
        },
        "id": "zbOwNFkl4CFJ",
        "outputId": "7f0c73e1-4074-4bc3-de56-384e4e2c273b"
      },
      "execution_count": 11,
      "outputs": [
        {
          "output_type": "execute_result",
          "data": {
            "text/plain": [
              "dict"
            ]
          },
          "metadata": {},
          "execution_count": 11
        }
      ]
    },
    {
      "cell_type": "code",
      "source": [
        "type(object_book)"
      ],
      "metadata": {
        "colab": {
          "base_uri": "https://localhost:8080/"
        },
        "id": "xT2nAXbT4Iwu",
        "outputId": "c1bbfa4c-028c-4a2f-d8bf-5385317fc797"
      },
      "execution_count": 12,
      "outputs": [
        {
          "output_type": "execute_result",
          "data": {
            "text/plain": [
              "str"
            ]
          },
          "metadata": {},
          "execution_count": 12
        }
      ]
    },
    {
      "cell_type": "code",
      "source": [
        "print(object_book)"
      ],
      "metadata": {
        "colab": {
          "base_uri": "https://localhost:8080/"
        },
        "id": "ysBOCXCC4oeB",
        "outputId": "7e70566a-696e-4b2c-eac3-1e89940403c6"
      },
      "execution_count": 14,
      "outputs": [
        {
          "output_type": "stream",
          "name": "stdout",
          "text": [
            "{\"param\": {\"name\": \"param\", \"mat-Nr\": 62345, \"address\": \"MAx-planck-ring18\", \"pin code\": 98693}, \"shamith\": {\"name\": \"shamith\", \"mat-Nr\": 62346, \"address\": \"MAx-planck-ring19\", \"pin code\": 98693}, \"aditya\": {\"name\": \"aditya\", \"mat-Nr\": 62347, \"address\": \"MAx-planck-ring20\", \"pin code\": 98693}}\n"
          ]
        }
      ]
    },
    {
      "cell_type": "code",
      "source": [
        "with open(\"Directory\",\"w\") as fp:\n",
        "  fp.write(object_book)"
      ],
      "metadata": {
        "id": "S6Px3FVv4Lxi"
      },
      "execution_count": 13,
      "outputs": []
    },
    {
      "cell_type": "code",
      "source": [
        "with open(\"Directory\",\"r\") as fp:\n",
        "  object_book_read = fp.read()"
      ],
      "metadata": {
        "id": "miZnlnwq4xJm"
      },
      "execution_count": 15,
      "outputs": []
    },
    {
      "cell_type": "code",
      "source": [
        "type(object_book_read)"
      ],
      "metadata": {
        "colab": {
          "base_uri": "https://localhost:8080/"
        },
        "id": "Yvv6rJ6o5JIU",
        "outputId": "8e9de423-d993-4635-f5f5-839ae6bbe8b0"
      },
      "execution_count": 16,
      "outputs": [
        {
          "output_type": "execute_result",
          "data": {
            "text/plain": [
              "str"
            ]
          },
          "metadata": {},
          "execution_count": 16
        }
      ]
    },
    {
      "cell_type": "code",
      "source": [
        "book_string = json.loads(object_book_read)"
      ],
      "metadata": {
        "id": "si-Zrqtp5M7j"
      },
      "execution_count": 17,
      "outputs": []
    },
    {
      "cell_type": "code",
      "source": [
        "type(book_string)"
      ],
      "metadata": {
        "colab": {
          "base_uri": "https://localhost:8080/"
        },
        "id": "JU_pSjPE5YBx",
        "outputId": "695027dc-5834-46fd-d841-b7df5295d68d"
      },
      "execution_count": 18,
      "outputs": [
        {
          "output_type": "execute_result",
          "data": {
            "text/plain": [
              "dict"
            ]
          },
          "metadata": {},
          "execution_count": 18
        }
      ]
    },
    {
      "cell_type": "code",
      "source": [
        "book_string[\"param\"]"
      ],
      "metadata": {
        "colab": {
          "base_uri": "https://localhost:8080/"
        },
        "id": "G-1qvQT75bzm",
        "outputId": "3f5fd50f-d0af-4541-bbe7-c18f29d1118c"
      },
      "execution_count": 19,
      "outputs": [
        {
          "output_type": "execute_result",
          "data": {
            "text/plain": [
              "{'address': 'MAx-planck-ring18',\n",
              " 'mat-Nr': 62345,\n",
              " 'name': 'param',\n",
              " 'pin code': 98693}"
            ]
          },
          "metadata": {},
          "execution_count": 19
        }
      ]
    },
    {
      "cell_type": "code",
      "source": [
        "book_string[\"param\"][\"pin code\"]"
      ],
      "metadata": {
        "colab": {
          "base_uri": "https://localhost:8080/"
        },
        "id": "IP5dXTi95xDV",
        "outputId": "27aeb1c4-7244-4854-bcd6-c4fd92f358f3"
      },
      "execution_count": 22,
      "outputs": [
        {
          "output_type": "execute_result",
          "data": {
            "text/plain": [
              "98693"
            ]
          },
          "metadata": {},
          "execution_count": 22
        }
      ]
    },
    {
      "cell_type": "code",
      "source": [
        "for k,v in book_string.items():\n",
        "  print(book_string[k])"
      ],
      "metadata": {
        "colab": {
          "base_uri": "https://localhost:8080/"
        },
        "id": "dBgVkvlW5kyK",
        "outputId": "e1e58117-1673-4932-c3a4-19f25dfa1249"
      },
      "execution_count": 34,
      "outputs": [
        {
          "output_type": "stream",
          "name": "stdout",
          "text": [
            "{'name': 'param', 'mat-Nr': 62345, 'address': 'MAx-planck-ring18', 'pin code': 98693}\n",
            "{'name': 'shamith', 'mat-Nr': 62346, 'address': 'MAx-planck-ring19', 'pin code': 98693}\n",
            "{'name': 'aditya', 'mat-Nr': 62347, 'address': 'MAx-planck-ring20', 'pin code': 98693}\n"
          ]
        }
      ]
    }
  ]
}