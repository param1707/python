{
  "nbformat": 4,
  "nbformat_minor": 0,
  "metadata": {
    "colab": {
      "name": "Functions.ipynb",
      "provenance": [],
      "authorship_tag": "ABX9TyMabgSOC5L/IlLQRx2KKJJG",
      "include_colab_link": true
    },
    "kernelspec": {
      "name": "python3",
      "display_name": "Python 3"
    },
    "language_info": {
      "name": "python"
    }
  },
  "cells": [
    {
      "cell_type": "markdown",
      "metadata": {
        "id": "view-in-github",
        "colab_type": "text"
      },
      "source": [
        "<a href=\"https://colab.research.google.com/github/param1707/python/blob/main/Functions.ipynb\" target=\"_parent\"><img src=\"https://colab.research.google.com/assets/colab-badge.svg\" alt=\"Open In Colab\"/></a>"
      ]
    },
    {
      "cell_type": "markdown",
      "source": [
        "# **Functions in python**"
      ],
      "metadata": {
        "id": "njU_oKNgsC9F"
      }
    },
    {
      "cell_type": "markdown",
      "source": [
        "# program to find the total expenses of an individual person without function"
      ],
      "metadata": {
        "id": "XFAJLlOWsLyp"
      }
    },
    {
      "cell_type": "code",
      "source": [
        "names = [\"param\",\"aditya\",\"shamith\"]\n",
        "month = [\"Jan\",\"Feb\",\"mar\",\"Apr\",\"May\"]\n",
        "param_expenses_in_euro = [100,200,300,400,500]\n",
        "aditya_expenses_in_euro = [200,300,400,500,600]\n",
        "shamith_expenses_in_euro = [300,400,500,600,700]"
      ],
      "metadata": {
        "id": "iKLxppJ9sIY7"
      },
      "execution_count": 3,
      "outputs": []
    },
    {
      "cell_type": "code",
      "source": [
        "total = 0\n",
        "for i in range(len(param_expenses_in_euro)):\n",
        "  total = total + param_expenses_in_euro[i]\n",
        "  print(\"Month:\",month[i],\" Expense:\",param_expenses_in_euro[i])\n",
        "\n",
        "print(\"param total expense is \",total)"
      ],
      "metadata": {
        "colab": {
          "base_uri": "https://localhost:8080/"
        },
        "id": "LFuwB9hcs8_8",
        "outputId": "25963254-2065-48ec-abf9-b790c3cb46cc"
      },
      "execution_count": 6,
      "outputs": [
        {
          "output_type": "stream",
          "name": "stdout",
          "text": [
            "Month: Jan  Expense: 100\n",
            "Month: Feb  Expense: 200\n",
            "Month: mar  Expense: 300\n",
            "Month: Apr  Expense: 400\n",
            "Month: May  Expense: 500\n",
            "param total expense is  1500\n"
          ]
        }
      ]
    },
    {
      "cell_type": "code",
      "source": [
        "total = 0\n",
        "for i in range(len(aditya_expenses_in_euro)):\n",
        "  total = total + aditya_expenses_in_euro[i]\n",
        "  print(\"Month:\",month[i],\" Expense:\",aditya_expenses_in_euro[i])\n",
        "\n",
        "print(\"param total expense is \",total)"
      ],
      "metadata": {
        "colab": {
          "base_uri": "https://localhost:8080/"
        },
        "id": "eJUL2N5juUCf",
        "outputId": "42ff6374-51d9-493b-a972-58ca77312bb4"
      },
      "execution_count": 7,
      "outputs": [
        {
          "output_type": "stream",
          "name": "stdout",
          "text": [
            "Month: Jan  Expense: 200\n",
            "Month: Feb  Expense: 300\n",
            "Month: mar  Expense: 400\n",
            "Month: Apr  Expense: 500\n",
            "Month: May  Expense: 600\n",
            "param total expense is  2000\n"
          ]
        }
      ]
    },
    {
      "cell_type": "code",
      "source": [
        "total = 0\n",
        "for i in range(len(shamith_expenses_in_euro)):\n",
        "  total = total + shamith_expenses_in_euro[i]\n",
        "  print(\"Month:\",month[i],\" Expense:\",shamith_expenses_in_euro[i])\n",
        "\n",
        "print(\"param total expense is \",total)"
      ],
      "metadata": {
        "colab": {
          "base_uri": "https://localhost:8080/"
        },
        "id": "6RnZDiLauaWg",
        "outputId": "e8966f6d-fca7-4b52-9ae0-800f7ac6d348"
      },
      "execution_count": 9,
      "outputs": [
        {
          "output_type": "stream",
          "name": "stdout",
          "text": [
            "Month: Jan  Expense: 300\n",
            "Month: Feb  Expense: 400\n",
            "Month: mar  Expense: 500\n",
            "Month: Apr  Expense: 600\n",
            "Month: May  Expense: 700\n",
            "param total expense is  2500\n"
          ]
        }
      ]
    },
    {
      "cell_type": "markdown",
      "source": [
        "# program to find the total expenses of an individual person with function"
      ],
      "metadata": {
        "id": "bGcUCm9puraJ"
      }
    },
    {
      "cell_type": "code",
      "source": [
        "def total_expense(month,expenses,name) :\n",
        "    total = 0\n",
        "    print(name+' ' + \"expenses month wise.....\")\n",
        "    for i in range(len(expenses)):\n",
        "      total = total + expenses[i]\n",
        "      print(\"Month:\",month[i],\" Expense:\",expenses[i])\n",
        "    print(name+' ' + \"total expense is \",total)"
      ],
      "metadata": {
        "id": "6LZlgUd7uuvS"
      },
      "execution_count": 17,
      "outputs": []
    },
    {
      "cell_type": "code",
      "source": [
        "total_expense(month,param_expenses_in_euro,\"param\")"
      ],
      "metadata": {
        "colab": {
          "base_uri": "https://localhost:8080/"
        },
        "id": "TJxnKWmiwR0D",
        "outputId": "61d0cee4-6735-46b7-b3f3-02fd14f6ae47"
      },
      "execution_count": 20,
      "outputs": [
        {
          "output_type": "stream",
          "name": "stdout",
          "text": [
            "param expenses month wise.....\n",
            "Month: Jan  Expense: 100\n",
            "Month: Feb  Expense: 200\n",
            "Month: mar  Expense: 300\n",
            "Month: Apr  Expense: 400\n",
            "Month: May  Expense: 500\n",
            "param total expense is  1500\n"
          ]
        }
      ]
    },
    {
      "cell_type": "code",
      "source": [
        "total_expense(month,aditya_expenses_in_euro,\"aditya\")"
      ],
      "metadata": {
        "colab": {
          "base_uri": "https://localhost:8080/"
        },
        "id": "NxxesgNfxjDp",
        "outputId": "8c08e5cd-8579-4434-a749-6e5a9fc1f48f"
      },
      "execution_count": 21,
      "outputs": [
        {
          "output_type": "stream",
          "name": "stdout",
          "text": [
            "aditya expenses month wise.....\n",
            "Month: Jan  Expense: 200\n",
            "Month: Feb  Expense: 300\n",
            "Month: mar  Expense: 400\n",
            "Month: Apr  Expense: 500\n",
            "Month: May  Expense: 600\n",
            "aditya total expense is  2000\n"
          ]
        }
      ]
    },
    {
      "cell_type": "code",
      "source": [
        "total_expense(month,shamith_expenses_in_euro,\"shamith\")"
      ],
      "metadata": {
        "colab": {
          "base_uri": "https://localhost:8080/"
        },
        "id": "F4sca3AJxllB",
        "outputId": "96fe1c8f-ec55-4231-a0b0-621ec4e34e4e"
      },
      "execution_count": 22,
      "outputs": [
        {
          "output_type": "stream",
          "name": "stdout",
          "text": [
            "shamith expenses month wise.....\n",
            "Month: Jan  Expense: 300\n",
            "Month: Feb  Expense: 400\n",
            "Month: mar  Expense: 500\n",
            "Month: Apr  Expense: 600\n",
            "Month: May  Expense: 700\n",
            "shamith total expense is  2500\n"
          ]
        }
      ]
    }
  ]
}