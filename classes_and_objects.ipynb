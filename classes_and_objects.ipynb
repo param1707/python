{
  "nbformat": 4,
  "nbformat_minor": 0,
  "metadata": {
    "colab": {
      "name": "classes_and_objects.ipynb",
      "provenance": [],
      "authorship_tag": "ABX9TyOsTGf2rcdySaP03RfFe4lH",
      "include_colab_link": true
    },
    "kernelspec": {
      "name": "python3",
      "display_name": "Python 3"
    },
    "language_info": {
      "name": "python"
    }
  },
  "cells": [
    {
      "cell_type": "markdown",
      "metadata": {
        "id": "view-in-github",
        "colab_type": "text"
      },
      "source": [
        "<a href=\"https://colab.research.google.com/github/param1707/python/blob/main/classes_and_objects.ipynb\" target=\"_parent\"><img src=\"https://colab.research.google.com/assets/colab-badge.svg\" alt=\"Open In Colab\"/></a>"
      ]
    },
    {
      "cell_type": "markdown",
      "source": [
        "# Class and Objects in python"
      ],
      "metadata": {
        "id": "tOvR1yxjHryq"
      }
    },
    {
      "cell_type": "code",
      "source": [
        "class Student :\n",
        "  def __init__(self,name,mat_Nr,course,language):\n",
        "    self.name = name\n",
        "    self.mat_Nr = mat_Nr\n",
        "    self.course = course\n",
        "    self.language = language\n",
        "  \n",
        "  def studies(self) :\n",
        "    if self.course == \"mt\":\n",
        "        print(self.name + \" studies in media technology course\")\n",
        "    elif self.course == \"rcse\":\n",
        "        print(self.name + \" studies in research in computer science and enginneering course\")\n",
        "    elif self.course == \"csp\":\n",
        "        print(self.name + \" studies in communications and signal processing\")\n",
        "\n",
        "  def speaks(self) :\n",
        "    if self.language == \"Guj\":\n",
        "        print(self.name + \" speaks in gujarati\")\n",
        "    elif self.language == \"Hin\":\n",
        "        print(self.name + \" speaks in hindi\")\n",
        "    elif self.language == \"Tel\":\n",
        "        print(self.name + \" speaks in telegu\")\n",
        "\n",
        "  def Id(self) :\n",
        "      print(self.name + \" matriculation number is \"+ str(self.mat_Nr))\n",
        "\n",
        "  def details(self):\n",
        "    self.Id()\n",
        "    self.studies()\n",
        "    self.speaks()"
      ],
      "metadata": {
        "id": "H3BMcqkBHxe1"
      },
      "execution_count": 30,
      "outputs": []
    },
    {
      "cell_type": "code",
      "source": [
        "param = Student(\"Param\",62345,\"csp\",\"Guj\")\n",
        "aditya = Student(\"aditya\",62346,\"rcse\",\"Hin\")\n",
        "shamith = Student(\"shamith\",62347,\"csp\",\"Tel\")"
      ],
      "metadata": {
        "id": "iWn0PdgBKXBa"
      },
      "execution_count": 31,
      "outputs": []
    },
    {
      "cell_type": "code",
      "source": [
        "param.studies()"
      ],
      "metadata": {
        "colab": {
          "base_uri": "https://localhost:8080/"
        },
        "id": "TDakYuv-KsX1",
        "outputId": "7001118e-21da-49be-99e4-bf49fe89e078"
      },
      "execution_count": 32,
      "outputs": [
        {
          "output_type": "stream",
          "name": "stdout",
          "text": [
            "Param studies in communications and signal processing\n"
          ]
        }
      ]
    },
    {
      "cell_type": "code",
      "source": [
        "param.speaks()"
      ],
      "metadata": {
        "colab": {
          "base_uri": "https://localhost:8080/"
        },
        "id": "pHYpCCakLfmd",
        "outputId": "c9083250-efc2-4ec7-8ab7-9ed34c9d1cda"
      },
      "execution_count": 33,
      "outputs": [
        {
          "output_type": "stream",
          "name": "stdout",
          "text": [
            "Param speaks in gujarati\n"
          ]
        }
      ]
    },
    {
      "cell_type": "code",
      "source": [
        "param.Id()"
      ],
      "metadata": {
        "colab": {
          "base_uri": "https://localhost:8080/"
        },
        "id": "IV0f_ZaVMJmi",
        "outputId": "68200da7-d55c-4431-8e3a-9f5d80bcdc9f"
      },
      "execution_count": 34,
      "outputs": [
        {
          "output_type": "stream",
          "name": "stdout",
          "text": [
            "Param matriculation number is 62345\n"
          ]
        }
      ]
    },
    {
      "cell_type": "code",
      "source": [
        "param.details()"
      ],
      "metadata": {
        "colab": {
          "base_uri": "https://localhost:8080/"
        },
        "id": "QT-XTOheMpwq",
        "outputId": "02be0c07-2a1e-4542-b25d-91bff781305a"
      },
      "execution_count": 35,
      "outputs": [
        {
          "output_type": "stream",
          "name": "stdout",
          "text": [
            "Param matriculation number is 62345\n",
            "Param studies in communications and signal processing\n",
            "Param speaks in gujarati\n"
          ]
        }
      ]
    },
    {
      "cell_type": "code",
      "source": [
        "aditya.details()"
      ],
      "metadata": {
        "colab": {
          "base_uri": "https://localhost:8080/"
        },
        "id": "93tQvypXNJo4",
        "outputId": "7142fec8-b935-42ee-affa-b352bfcdccea"
      },
      "execution_count": 36,
      "outputs": [
        {
          "output_type": "stream",
          "name": "stdout",
          "text": [
            "aditya matriculation number is 62346\n",
            "aditya studies in research in computer science and enginneering course\n",
            "aditya speaks in hindi\n"
          ]
        }
      ]
    },
    {
      "cell_type": "code",
      "source": [
        "shamith.details()"
      ],
      "metadata": {
        "colab": {
          "base_uri": "https://localhost:8080/"
        },
        "id": "bR44-GOuNPJA",
        "outputId": "4f8502e8-11c7-4068-db27-4fe31da90ec5"
      },
      "execution_count": 37,
      "outputs": [
        {
          "output_type": "stream",
          "name": "stdout",
          "text": [
            "shamith matriculation number is 62347\n",
            "shamith studies in communications and signal processing\n",
            "shamith speaks in telegu\n"
          ]
        }
      ]
    }
  ]
}