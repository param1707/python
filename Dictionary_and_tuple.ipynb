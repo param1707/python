{
  "nbformat": 4,
  "nbformat_minor": 0,
  "metadata": {
    "colab": {
      "name": "Dictionary and tuple.ipynb",
      "provenance": [],
      "authorship_tag": "ABX9TyMFCKnG6Z1ZPzm0RibkJm9p",
      "include_colab_link": true
    },
    "kernelspec": {
      "name": "python3",
      "display_name": "Python 3"
    },
    "language_info": {
      "name": "python"
    }
  },
  "cells": [
    {
      "cell_type": "markdown",
      "metadata": {
        "id": "view-in-github",
        "colab_type": "text"
      },
      "source": [
        "<a href=\"https://colab.research.google.com/github/param1707/python/blob/main/Dictionary_and_tuple.ipynb\" target=\"_parent\"><img src=\"https://colab.research.google.com/assets/colab-badge.svg\" alt=\"Open In Colab\"/></a>"
      ]
    },
    {
      "cell_type": "markdown",
      "source": [
        "# **Dictionaries and Tuples**"
      ],
      "metadata": {
        "id": "xP8SMos7zChF"
      }
    },
    {
      "cell_type": "code",
      "source": [
        "Stu_db = {\"param\":62345,\"shamith\":62346,\"aditya\":62347}"
      ],
      "metadata": {
        "id": "evppgwRUzJM9"
      },
      "execution_count": 5,
      "outputs": []
    },
    {
      "cell_type": "code",
      "source": [
        "Stu_db"
      ],
      "metadata": {
        "colab": {
          "base_uri": "https://localhost:8080/"
        },
        "id": "iV71NDJszgiB",
        "outputId": "7ed8e5e7-199b-462f-ce5f-9a47563dff6e"
      },
      "execution_count": 6,
      "outputs": [
        {
          "output_type": "execute_result",
          "data": {
            "text/plain": [
              "{'aditya': 62347, 'param': 62345, 'shamith': 62346}"
            ]
          },
          "metadata": {},
          "execution_count": 6
        }
      ]
    },
    {
      "cell_type": "code",
      "source": [
        "Stu_db[\"param\"]"
      ],
      "metadata": {
        "colab": {
          "base_uri": "https://localhost:8080/"
        },
        "id": "ZyAEZ4tuznmf",
        "outputId": "418f4e1d-bfc9-4961-9d05-314f310505a4"
      },
      "execution_count": 10,
      "outputs": [
        {
          "output_type": "execute_result",
          "data": {
            "text/plain": [
              "62345"
            ]
          },
          "metadata": {},
          "execution_count": 10
        }
      ]
    },
    {
      "cell_type": "code",
      "source": [
        "Stu_db[\"aditya\"]"
      ],
      "metadata": {
        "colab": {
          "base_uri": "https://localhost:8080/"
        },
        "id": "aJeYpGat0zQD",
        "outputId": "e35c190c-30cc-4359-cb1b-2f3cb1d84805"
      },
      "execution_count": 16,
      "outputs": [
        {
          "output_type": "execute_result",
          "data": {
            "text/plain": [
              "62347"
            ]
          },
          "metadata": {},
          "execution_count": 16
        }
      ]
    },
    {
      "cell_type": "code",
      "source": [
        "Stu_db[\"shamith\"]"
      ],
      "metadata": {
        "colab": {
          "base_uri": "https://localhost:8080/"
        },
        "id": "nLUDCLwg02e5",
        "outputId": "a2feb8f3-6fc0-4bbb-c6b4-44cfa9a6dfeb"
      },
      "execution_count": 17,
      "outputs": [
        {
          "output_type": "execute_result",
          "data": {
            "text/plain": [
              "62346"
            ]
          },
          "metadata": {},
          "execution_count": 17
        }
      ]
    },
    {
      "cell_type": "markdown",
      "source": [
        "# printing key value iterating through dictionary"
      ],
      "metadata": {
        "id": "dEdSVRl806_u"
      }
    },
    {
      "cell_type": "code",
      "source": [
        "for k in Stu_db:\n",
        "  print(\"key:\",k,\" Value:\",Stu_db[k])"
      ],
      "metadata": {
        "colab": {
          "base_uri": "https://localhost:8080/"
        },
        "id": "9vNPke1Gz6cU",
        "outputId": "ffe8d569-18c2-4d3c-84a9-42e6101603c2"
      },
      "execution_count": 19,
      "outputs": [
        {
          "output_type": "stream",
          "name": "stdout",
          "text": [
            "key: param  Value: 62345\n",
            "key: shamith  Value: 62346\n",
            "key: aditya  Value: 62347\n"
          ]
        }
      ]
    },
    {
      "cell_type": "markdown",
      "source": [
        "# printing key value pair using tuple"
      ],
      "metadata": {
        "id": "54rWWP6e0tfO"
      }
    },
    {
      "cell_type": "code",
      "source": [
        "for k,v in Stu_db.items():\n",
        "  print(\"key:\",k,\" Value:\",v)"
      ],
      "metadata": {
        "colab": {
          "base_uri": "https://localhost:8080/"
        },
        "id": "nqDHyVkd0U5H",
        "outputId": "2a5b7f75-b191-4e79-8f55-c9b7ae9ef524"
      },
      "execution_count": 20,
      "outputs": [
        {
          "output_type": "stream",
          "name": "stdout",
          "text": [
            "key: param  Value: 62345\n",
            "key: shamith  Value: 62346\n",
            "key: aditya  Value: 62347\n"
          ]
        }
      ]
    }
  ]
}