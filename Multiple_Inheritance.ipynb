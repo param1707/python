{
  "nbformat": 4,
  "nbformat_minor": 0,
  "metadata": {
    "colab": {
      "name": "Multiple_Inheritance.ipynb",
      "provenance": [],
      "authorship_tag": "ABX9TyO/HhC8PaGly0mq4Tgr8xG7",
      "include_colab_link": true
    },
    "kernelspec": {
      "name": "python3",
      "display_name": "Python 3"
    },
    "language_info": {
      "name": "python"
    }
  },
  "cells": [
    {
      "cell_type": "markdown",
      "metadata": {
        "id": "view-in-github",
        "colab_type": "text"
      },
      "source": [
        "<a href=\"https://colab.research.google.com/github/param1707/python/blob/main/Multiple_Inheritance.ipynb\" target=\"_parent\"><img src=\"https://colab.research.google.com/assets/colab-badge.svg\" alt=\"Open In Colab\"/></a>"
      ]
    },
    {
      "cell_type": "markdown",
      "source": [
        "# **Multiple Inheritance in python**"
      ],
      "metadata": {
        "id": "2NttbRnrYKYm"
      }
    },
    {
      "cell_type": "code",
      "source": [
        "class Father :\n",
        "  def skill(self):\n",
        "    print(\"father is programmer\")\n",
        "\n",
        "  def car(self):\n",
        "     print(\"father drives car as a means of transport\")"
      ],
      "metadata": {
        "id": "BaS5MweoYRHq"
      },
      "execution_count": 21,
      "outputs": []
    },
    {
      "cell_type": "code",
      "source": [
        "class Mother :\n",
        "  def skill(self):\n",
        "    print(\"Mother is artist\")\n",
        "\n",
        "  def bus(self):\n",
        "     print(\"Mother uses bus public transport\")"
      ],
      "metadata": {
        "id": "aVzC9qqqYpJ-"
      },
      "execution_count": 22,
      "outputs": []
    },
    {
      "cell_type": "code",
      "source": [
        "class Child(Father,Mother) :\n",
        "  def skill(self):\n",
        "    Father.skill(self) #using father class and by passing child object we can use father class skill method\n",
        "    Mother.skill(self) #using mother class and by passing child object we can use mother class skill method\n",
        "    print(\"child is student\")\n",
        "\n",
        "  def cycle(self):\n",
        "     print(\"child uses as a cycle as means of transport\")"
      ],
      "metadata": {
        "id": "Y8SmwDXgZTEu"
      },
      "execution_count": 23,
      "outputs": []
    },
    {
      "cell_type": "code",
      "source": [
        "c = Child()\n",
        "c.car() #using object of child we can use father class methods\n",
        "c.bus() #using object of child we can use mother class methods\n",
        "c.cycle()"
      ],
      "metadata": {
        "colab": {
          "base_uri": "https://localhost:8080/"
        },
        "id": "uGCAzyzuZvy3",
        "outputId": "271f0642-dca7-48d4-ca72-b9b87e60de52"
      },
      "execution_count": 24,
      "outputs": [
        {
          "output_type": "stream",
          "name": "stdout",
          "text": [
            "father drives car as a means of transport\n",
            "Mother uses bus public transport\n",
            "child uses as a cycle as means of transport\n"
          ]
        }
      ]
    },
    {
      "cell_type": "code",
      "source": [
        "c.skill()"
      ],
      "metadata": {
        "colab": {
          "base_uri": "https://localhost:8080/"
        },
        "id": "rIFCcY8radyz",
        "outputId": "c307daf1-8f09-4a63-b50e-0dbc1d0e2166"
      },
      "execution_count": 25,
      "outputs": [
        {
          "output_type": "stream",
          "name": "stdout",
          "text": [
            "father is programmer\n",
            "Mother is artist\n",
            "child is student\n"
          ]
        }
      ]
    }
  ]
}