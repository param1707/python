{
  "nbformat": 4,
  "nbformat_minor": 0,
  "metadata": {
    "colab": {
      "name": "Loops.ipynb",
      "provenance": [],
      "authorship_tag": "ABX9TyMrrDVu1wbKZ+evr522Pxjm",
      "include_colab_link": true
    },
    "kernelspec": {
      "name": "python3",
      "display_name": "Python 3"
    },
    "language_info": {
      "name": "python"
    }
  },
  "cells": [
    {
      "cell_type": "markdown",
      "metadata": {
        "id": "view-in-github",
        "colab_type": "text"
      },
      "source": [
        "<a href=\"https://colab.research.google.com/github/param1707/python/blob/main/Loops.ipynb\" target=\"_parent\"><img src=\"https://colab.research.google.com/assets/colab-badge.svg\" alt=\"Open In Colab\"/></a>"
      ]
    },
    {
      "cell_type": "markdown",
      "source": [
        "# **Loops in python**"
      ],
      "metadata": {
        "id": "nDk-LTY_geI7"
      }
    },
    {
      "cell_type": "markdown",
      "source": [
        "# write a program to add all the expenses in list"
      ],
      "metadata": {
        "id": "uRXOp5iPgpsB"
      }
    },
    {
      "cell_type": "code",
      "source": [
        "expenses_in_euro = [152,250,319,412,123]\n",
        "Month = [\"jan\",\"Feb\",\"mar\",\"Apr\",\"May\"]"
      ],
      "metadata": {
        "id": "3D5m6HfeglPD"
      },
      "execution_count": 13,
      "outputs": []
    },
    {
      "cell_type": "code",
      "source": [
        "expenses_in_euro[0]"
      ],
      "metadata": {
        "colab": {
          "base_uri": "https://localhost:8080/"
        },
        "id": "_Q0DXcP1g6OR",
        "outputId": "e488d883-98ec-49f1-af1a-28c659f813ea"
      },
      "execution_count": 4,
      "outputs": [
        {
          "output_type": "execute_result",
          "data": {
            "text/plain": [
              "152"
            ]
          },
          "metadata": {},
          "execution_count": 4
        }
      ]
    },
    {
      "cell_type": "code",
      "source": [
        "total = expenses_in_euro[0]+expenses_in_euro[1]+expenses_in_euro[2]+expenses_in_euro[3]+expenses_in_euro[4]\n",
        "print(total)"
      ],
      "metadata": {
        "colab": {
          "base_uri": "https://localhost:8080/"
        },
        "id": "A1Zc83sPhBRp",
        "outputId": "dad0eca4-9a46-4821-b573-34f2e402e409"
      },
      "execution_count": 6,
      "outputs": [
        {
          "output_type": "stream",
          "name": "stdout",
          "text": [
            "1256\n"
          ]
        }
      ]
    },
    {
      "cell_type": "markdown",
      "source": [
        "# Using loop to find total"
      ],
      "metadata": {
        "id": "pkZAm3hihRQ6"
      }
    },
    {
      "cell_type": "code",
      "source": [
        "total_expense = 0\n",
        "for i in expenses_in_euro:\n",
        "  total_expense = total_expense + i\n",
        "print(\"total expense of all the month is \"+ str(total_expense))"
      ],
      "metadata": {
        "colab": {
          "base_uri": "https://localhost:8080/"
        },
        "id": "pC7fYjdZhWlD",
        "outputId": "5e161d0a-dfa2-43d5-b065-50d67926b98e"
      },
      "execution_count": 8,
      "outputs": [
        {
          "output_type": "stream",
          "name": "stdout",
          "text": [
            "total expense of all the month is 1256\n"
          ]
        }
      ]
    },
    {
      "cell_type": "code",
      "source": [
        "total_expense = 0\n",
        "for i in range(0,5):\n",
        "  total_expense = total_expense + expenses_in_euro[i]\n",
        "print(\"total expense of all the month is \"+ str(total_expense))"
      ],
      "metadata": {
        "colab": {
          "base_uri": "https://localhost:8080/"
        },
        "id": "Y-dDPuIliAuW",
        "outputId": "bdf5f35b-1822-45f7-f70f-d8698e021c1b"
      },
      "execution_count": 11,
      "outputs": [
        {
          "output_type": "stream",
          "name": "stdout",
          "text": [
            "total expense of all the month is 1256\n"
          ]
        }
      ]
    },
    {
      "cell_type": "code",
      "source": [
        "total_expense = 0\n",
        "for i in range(len(expenses_in_euro)):\n",
        "  total_expense = total_expense + expenses_in_euro[i]\n",
        "print(\"total expense of all the month is \"+ str(total_expense))"
      ],
      "metadata": {
        "colab": {
          "base_uri": "https://localhost:8080/"
        },
        "id": "8WNXkQrtiUw4",
        "outputId": "e857415d-bf0d-4401-ac3c-c320519edbdf"
      },
      "execution_count": 12,
      "outputs": [
        {
          "output_type": "stream",
          "name": "stdout",
          "text": [
            "total expense of all the month is 1256\n"
          ]
        }
      ]
    },
    {
      "cell_type": "markdown",
      "source": [
        "# write a program to print all the month with expenses and with final total"
      ],
      "metadata": {
        "id": "Gf3JYq4Fifqj"
      }
    },
    {
      "cell_type": "code",
      "source": [
        "total_expense = 0\n",
        "for i in range(len(expenses_in_euro)):\n",
        "  print(\"month:\",Month[i]+'  '+\"Expenses:\",expenses_in_euro[i])\n",
        "  total_expense = total_expense + expenses_in_euro[i]\n",
        "print(\"total expense of all the month is \"+ str(total_expense))"
      ],
      "metadata": {
        "colab": {
          "base_uri": "https://localhost:8080/"
        },
        "id": "9ICceCU9ipeu",
        "outputId": "567e28f3-8a1e-4d6e-c92d-b214f942b560"
      },
      "execution_count": 15,
      "outputs": [
        {
          "output_type": "stream",
          "name": "stdout",
          "text": [
            "month: jan  Expenses: 152\n",
            "month: Feb  Expenses: 250\n",
            "month: mar  Expenses: 319\n",
            "month: Apr  Expenses: 412\n",
            "month: May  Expenses: 123\n",
            "total expense of all the month is 1256\n"
          ]
        }
      ]
    },
    {
      "cell_type": "markdown",
      "source": [
        "# Write a program to find a thing in a list"
      ],
      "metadata": {
        "id": "DK7C9uQrjlfy"
      }
    },
    {
      "cell_type": "code",
      "source": [
        "thing = 'keys'\n",
        "livingroom = [\"pen\",\"paper\",\"pencil\",\"keys\",\"mobile\",\"Laptop\",\"pc\"]\n"
      ],
      "metadata": {
        "id": "NksQsgW_kAK2"
      },
      "execution_count": 28,
      "outputs": []
    },
    {
      "cell_type": "code",
      "source": [
        "for i in range(len(livingroom)):\n",
        "  if thing==livingroom[i]:\n",
        "    print(thing + \" is found in the living room\")\n",
        "    break\n",
        "  \n",
        "  if i==6:\n",
        "    print(thing + \" is not found in the living room\")\n",
        "  "
      ],
      "metadata": {
        "colab": {
          "base_uri": "https://localhost:8080/"
        },
        "id": "XSs3TaT3kjd6",
        "outputId": "b4eeb395-381e-4c88-e2ee-d607f77ab686"
      },
      "execution_count": 29,
      "outputs": [
        {
          "output_type": "stream",
          "name": "stdout",
          "text": [
            "keys is found in the living room\n"
          ]
        }
      ]
    },
    {
      "cell_type": "code",
      "source": [
        "thing = \"salt\""
      ],
      "metadata": {
        "id": "fAuyxBFUmQ1_"
      },
      "execution_count": 30,
      "outputs": []
    },
    {
      "cell_type": "code",
      "source": [
        "for i in range(len(livingroom)):\n",
        "  if thing==livingroom[i]:\n",
        "    print(thing + \" is found in the living room\")\n",
        "    break\n",
        "  \n",
        "  if i==6:\n",
        "    print(thing + \" is not found in the living room\")"
      ],
      "metadata": {
        "colab": {
          "base_uri": "https://localhost:8080/"
        },
        "id": "-KU0FBLImW6Z",
        "outputId": "a714a534-cc20-4c1d-b561-52a1f5615ec6"
      },
      "execution_count": 31,
      "outputs": [
        {
          "output_type": "stream",
          "name": "stdout",
          "text": [
            "salt is not found in the living room\n"
          ]
        }
      ]
    }
  ]
}