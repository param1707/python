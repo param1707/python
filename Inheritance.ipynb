{
  "nbformat": 4,
  "nbformat_minor": 0,
  "metadata": {
    "colab": {
      "name": "Inheritance.ipynb",
      "provenance": [],
      "authorship_tag": "ABX9TyMsQ+RxiQdbIKe52ZGKow0O",
      "include_colab_link": true
    },
    "kernelspec": {
      "name": "python3",
      "display_name": "Python 3"
    },
    "language_info": {
      "name": "python"
    }
  },
  "cells": [
    {
      "cell_type": "markdown",
      "metadata": {
        "id": "view-in-github",
        "colab_type": "text"
      },
      "source": [
        "<a href=\"https://colab.research.google.com/github/param1707/python/blob/main/Inheritance.ipynb\" target=\"_parent\"><img src=\"https://colab.research.google.com/assets/colab-badge.svg\" alt=\"Open In Colab\"/></a>"
      ]
    },
    {
      "cell_type": "markdown",
      "source": [
        "# **Inheritence in python**"
      ],
      "metadata": {
        "id": "pYT1ojLkPku5"
      }
    },
    {
      "cell_type": "code",
      "source": [
        "class Vehicle :\n",
        "  def general_pupose(self):\n",
        "    print(\"Vehicle is used for transportation from one place to another\")"
      ],
      "metadata": {
        "id": "lK3L2NJwPpKk"
      },
      "execution_count": 24,
      "outputs": []
    },
    {
      "cell_type": "code",
      "source": [
        "class car(Vehicle) :\n",
        "  def __init__(self,wheels,n_doors,n_windows):\n",
        "    self.wheels = wheels\n",
        "    self.is_door = True\n",
        "    self.n_doors = n_doors\n",
        "    self.is_windows = True\n",
        "    self.n_windows = n_windows\n",
        "\n",
        "  def specific_purpose(self):\n",
        "    print(\"Car can take more peoples mostly use for travelling long distance\")\n",
        "    print(\"car has \" +str(self.n_doors)+ \" nos of doors\")\n",
        "    print(\"car has \" +str(self.n_windows)+ \" nos of windows\")\n",
        "    print(\"car has \" +str(self.wheels)+ \" nos of wheels\")"
      ],
      "metadata": {
        "id": "uXesGDsYR-l7"
      },
      "execution_count": 25,
      "outputs": []
    },
    {
      "cell_type": "code",
      "source": [
        "class bike(Vehicle) :\n",
        "  def __init__(self,wheels,n_doors,n_windows):\n",
        "    self.wheels = wheels\n",
        "    self.is_door = False\n",
        "    self.n_doors = n_doors\n",
        "    self.is_windows = False\n",
        "    self.n_windows = n_windows\n",
        "\n",
        "  def specific_purpose(self):\n",
        "    print(\"bike can't take more peoples mostly use for racing\")\n",
        "    print(\"bike has \" +str(self.n_doors)+ \" nos of doors\")\n",
        "    print(\"bike has \" +str(self.n_windows)+ \" nos of windows\")\n",
        "    print(\"bike has \" +str(self.wheels)+ \" nos of wheels\")"
      ],
      "metadata": {
        "id": "2_ea_sExSGsC"
      },
      "execution_count": 26,
      "outputs": []
    },
    {
      "cell_type": "code",
      "source": [
        "c = car(4,4,4)\n",
        "c.general_pupose() # we have inherited car from vehicle so we are using base class methods which is known as inheritance\n",
        "c.specific_purpose()"
      ],
      "metadata": {
        "colab": {
          "base_uri": "https://localhost:8080/"
        },
        "id": "K0U_RxQCSB5z",
        "outputId": "46dcb338-b0f5-4afd-8534-14db0e92c0a3"
      },
      "execution_count": 27,
      "outputs": [
        {
          "output_type": "stream",
          "name": "stdout",
          "text": [
            "Vehicle is used for transportation from one place to another\n",
            "Car can take more peoples mostly use for travelling long distance\n",
            "car has 4 nos of doors\n",
            "car has 4 nos of windows\n",
            "car has 4 nos of wheels\n"
          ]
        }
      ]
    },
    {
      "cell_type": "code",
      "source": [
        "b = bike(2,0,0)\n",
        "b.general_pupose() # we have inherited car from vehicle so we are using base class methods which is known as inheritance\n",
        "b.specific_purpose()"
      ],
      "metadata": {
        "colab": {
          "base_uri": "https://localhost:8080/"
        },
        "id": "OiJGpgH8UKoV",
        "outputId": "f2a7a272-1d32-4394-eb31-95f6868f2592"
      },
      "execution_count": 28,
      "outputs": [
        {
          "output_type": "stream",
          "name": "stdout",
          "text": [
            "Vehicle is used for transportation from one place to another\n",
            "bike can't take more peoples mostly use for racing\n",
            "bike has 0 nos of doors\n",
            "bike has 0 nos of windows\n",
            "bike has 2 nos of wheels\n"
          ]
        }
      ]
    },
    {
      "cell_type": "code",
      "source": [
        ""
      ],
      "metadata": {
        "id": "DPcBxp-MTS-l"
      },
      "execution_count": null,
      "outputs": []
    }
  ]
}